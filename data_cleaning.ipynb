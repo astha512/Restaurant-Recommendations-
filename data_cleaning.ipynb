{
 "cells": [
  {
   "cell_type": "markdown",
   "id": "0c05be7a",
   "metadata": {},
   "source": [
    "# preprocessing & cleaning\n",
    "## -----------------------------------------"
   ]
  },
  {
   "cell_type": "code",
   "execution_count": 37,
   "id": "e9080586",
   "metadata": {},
   "outputs": [],
   "source": [
    "import pandas as pd\n",
    "import numpy as np\n",
    "import matplotlib.pyplot as plt\n",
    "%matplotlib inline\n",
    "import seaborn as sns"
   ]
  },
  {
   "cell_type": "code",
   "execution_count": 38,
   "id": "f4752a71",
   "metadata": {},
   "outputs": [],
   "source": [
    "df=pd.read_csv('combine_swiggy.csv',encoding='latin1')"
   ]
  },
  {
   "cell_type": "code",
   "execution_count": 39,
   "id": "0e368922",
   "metadata": {},
   "outputs": [
    {
     "data": {
      "text/html": [
       "<div>\n",
       "<style scoped>\n",
       "    .dataframe tbody tr th:only-of-type {\n",
       "        vertical-align: middle;\n",
       "    }\n",
       "\n",
       "    .dataframe tbody tr th {\n",
       "        vertical-align: top;\n",
       "    }\n",
       "\n",
       "    .dataframe thead th {\n",
       "        text-align: right;\n",
       "    }\n",
       "</style>\n",
       "<table border=\"1\" class=\"dataframe\">\n",
       "  <thead>\n",
       "    <tr style=\"text-align: right;\">\n",
       "      <th></th>\n",
       "      <th>Unnamed: 0</th>\n",
       "      <th>restaurant_name</th>\n",
       "      <th>ratings</th>\n",
       "      <th>cuisines</th>\n",
       "      <th>pricing</th>\n",
       "      <th>address</th>\n",
       "      <th>distance</th>\n",
       "      <th>city</th>\n",
       "    </tr>\n",
       "  </thead>\n",
       "  <tbody>\n",
       "    <tr>\n",
       "      <th>0</th>\n",
       "      <td>0</td>\n",
       "      <td>KFC</td>\n",
       "      <td>4.4</td>\n",
       "      <td>Burgers, Fast Food, Rolls &amp; Wraps</td>\n",
       "      <td>40% OFF UPTO ?80</td>\n",
       "      <td>Vallabh Vidyanagar</td>\n",
       "      <td>4.435-40 mins</td>\n",
       "      <td>anand</td>\n",
       "    </tr>\n",
       "    <tr>\n",
       "      <th>1</th>\n",
       "      <td>1</td>\n",
       "      <td>KFC</td>\n",
       "      <td>4.4</td>\n",
       "      <td>Burgers, Fast Food, Rolls &amp; Wraps</td>\n",
       "      <td>40% OFF UPTO ?80</td>\n",
       "      <td>Vallabh Vidyanagar</td>\n",
       "      <td>4.435-40 mins</td>\n",
       "      <td>anand</td>\n",
       "    </tr>\n",
       "    <tr>\n",
       "      <th>2</th>\n",
       "      <td>2</td>\n",
       "      <td>Pizza Hut</td>\n",
       "      <td>4.3</td>\n",
       "      <td>Pizzas</td>\n",
       "      <td>ITEMS AT ?189</td>\n",
       "      <td>Hadgood</td>\n",
       "      <td>4.340-45 mins</td>\n",
       "      <td>anand</td>\n",
       "    </tr>\n",
       "    <tr>\n",
       "      <th>3</th>\n",
       "      <td>3</td>\n",
       "      <td>Pizza Hut</td>\n",
       "      <td>4.3</td>\n",
       "      <td>Pizzas</td>\n",
       "      <td>ITEMS AT ?189</td>\n",
       "      <td>Hadgood</td>\n",
       "      <td>4.340-45 mins</td>\n",
       "      <td>anand</td>\n",
       "    </tr>\n",
       "    <tr>\n",
       "      <th>4</th>\n",
       "      <td>4</td>\n",
       "      <td>Subway</td>\n",
       "      <td>4.4</td>\n",
       "      <td>Healthy Food, Salads, Fast Food</td>\n",
       "      <td>NaN</td>\n",
       "      <td>mahadev-nagar</td>\n",
       "      <td>4.430-35 mins</td>\n",
       "      <td>anand</td>\n",
       "    </tr>\n",
       "  </tbody>\n",
       "</table>\n",
       "</div>"
      ],
      "text/plain": [
       "   Unnamed: 0 restaurant_name ratings                           cuisines  \\\n",
       "0           0             KFC    4.4  Burgers, Fast Food, Rolls & Wraps   \n",
       "1           1             KFC    4.4  Burgers, Fast Food, Rolls & Wraps   \n",
       "2           2       Pizza Hut    4.3                             Pizzas   \n",
       "3           3       Pizza Hut    4.3                             Pizzas   \n",
       "4           4          Subway    4.4    Healthy Food, Salads, Fast Food   \n",
       "\n",
       "            pricing             address        distance   city  \n",
       "0  40% OFF UPTO ?80  Vallabh Vidyanagar  4.435-40 mins  anand  \n",
       "1  40% OFF UPTO ?80  Vallabh Vidyanagar  4.435-40 mins  anand  \n",
       "2     ITEMS AT ?189             Hadgood  4.340-45 mins  anand  \n",
       "3     ITEMS AT ?189             Hadgood  4.340-45 mins  anand  \n",
       "4               NaN       mahadev-nagar  4.430-35 mins  anand  "
      ]
     },
     "execution_count": 39,
     "metadata": {},
     "output_type": "execute_result"
    }
   ],
   "source": [
    "df.head()"
   ]
  },
  {
   "cell_type": "markdown",
   "id": "8a9ddacc",
   "metadata": {},
   "source": [
    "# messy data ( unstructed data)\n",
    " 1] split the distance and ratings then remove ratings(also mins)\n",
    "    \n",
    " 2] drop the unnamed:0\n",
    "    \n",
    "    \n",
    "# dirty data (low quality data)\n",
    "\n",
    "  1] remove extra space in ratings \n",
    "    \n",
    "  2] clean the pricing columns while removing the offer\n",
    "\n",
    "  3] drop duplicates rows\n",
    "    \n",
    "  4] fill up the ratings and price \n",
    "\n",
    "  5] convert each categorical columns in the lower\n",
    "  \n",
    "  6] convert ratings , price , distance in numeric formet\n",
    "  \n",
    "  \n"
   ]
  },
  {
   "cell_type": "code",
   "execution_count": 40,
   "id": "0c25c210",
   "metadata": {},
   "outputs": [],
   "source": [
    "df_c=df.copy()"
   ]
  },
  {
   "cell_type": "code",
   "execution_count": 41,
   "id": "2eaa2a68",
   "metadata": {},
   "outputs": [
    {
     "data": {
      "text/plain": [
       "(4216, 8)"
      ]
     },
     "execution_count": 41,
     "metadata": {},
     "output_type": "execute_result"
    }
   ],
   "source": [
    "df_c.shape"
   ]
  },
  {
   "cell_type": "code",
   "execution_count": 42,
   "id": "b29effc1",
   "metadata": {},
   "outputs": [],
   "source": [
    "#df_c.drop(columns='Unnamed: 0',inplace=True)\n",
    "# drop the unnamed:0"
   ]
  },
  {
   "cell_type": "code",
   "execution_count": 43,
   "id": "b283bbb0",
   "metadata": {},
   "outputs": [],
   "source": [
    "df_c['distance']=df_c['distance'].replace(to_replace=['\\x95','mins'],value=[',',''],regex=True)\n"
   ]
  },
  {
   "cell_type": "code",
   "execution_count": 44,
   "id": "777b4990",
   "metadata": {},
   "outputs": [],
   "source": [
    "df_c['distance']=df_c['distance'].str.split(',',expand=True)[1]\n"
   ]
  },
  {
   "cell_type": "code",
   "execution_count": 47,
   "id": "52c7da11",
   "metadata": {},
   "outputs": [
    {
     "data": {
      "text/html": [
       "<div>\n",
       "<style scoped>\n",
       "    .dataframe tbody tr th:only-of-type {\n",
       "        vertical-align: middle;\n",
       "    }\n",
       "\n",
       "    .dataframe tbody tr th {\n",
       "        vertical-align: top;\n",
       "    }\n",
       "\n",
       "    .dataframe thead th {\n",
       "        text-align: right;\n",
       "    }\n",
       "</style>\n",
       "<table border=\"1\" class=\"dataframe\">\n",
       "  <thead>\n",
       "    <tr style=\"text-align: right;\">\n",
       "      <th></th>\n",
       "      <th>pricing</th>\n",
       "    </tr>\n",
       "  </thead>\n",
       "  <tbody>\n",
       "    <tr>\n",
       "      <th>3877</th>\n",
       "      <td>NaN</td>\n",
       "    </tr>\n",
       "    <tr>\n",
       "      <th>3716</th>\n",
       "      <td>NaN</td>\n",
       "    </tr>\n",
       "    <tr>\n",
       "      <th>2658</th>\n",
       "      <td>NaN</td>\n",
       "    </tr>\n",
       "    <tr>\n",
       "      <th>3115</th>\n",
       "      <td>?150 OFF ABOVE ?349</td>\n",
       "    </tr>\n",
       "    <tr>\n",
       "      <th>2865</th>\n",
       "      <td>NaN</td>\n",
       "    </tr>\n",
       "  </tbody>\n",
       "</table>\n",
       "</div>"
      ],
      "text/plain": [
       "                  pricing\n",
       "3877                  NaN\n",
       "3716                  NaN\n",
       "2658                  NaN\n",
       "3115  ?150 OFF ABOVE ?349\n",
       "2865                  NaN"
      ]
     },
     "execution_count": 47,
     "metadata": {},
     "output_type": "execute_result"
    }
   ],
   "source": [
    "df_c[['pricing']].sample(5)"
   ]
  },
  {
   "cell_type": "code",
   "execution_count": 29,
   "id": "11f95aa6",
   "metadata": {},
   "outputs": [],
   "source": [
    "#remove extra space in ratings\n",
    "df_c['ratings']=df_c['ratings'].str.replace('\\x95',' ')"
   ]
  },
  {
   "cell_type": "code",
   "execution_count": 11,
   "id": "6dab635c",
   "metadata": {},
   "outputs": [],
   "source": [
    "#clean the pricing columns while removing the offer\n",
    "df_c['pricing']=df_c['pricing'].apply(\n",
    "    lambda x: np.nan if isinstance(x, str) and 'OFF ABOVE' in x and any(char.isdigit() for char in x) else x\n",
    ")\n",
    "\n"
   ]
  },
  {
   "cell_type": "code",
   "execution_count": 12,
   "id": "085c90ba",
   "metadata": {},
   "outputs": [],
   "source": [
    "df_c['pricing']=df_c['pricing'].str.split('?',expand=True)[1]"
   ]
  },
  {
   "cell_type": "code",
   "execution_count": 13,
   "id": "a75a6737",
   "metadata": {},
   "outputs": [
    {
     "data": {
      "text/plain": [
       "1103    NaN\n",
       "3609    NaN\n",
       "513     150\n",
       "352      80\n",
       "1872    NaN\n",
       "2020    NaN\n",
       "3989    NaN\n",
       "4069    NaN\n",
       "1827    120\n",
       "Name: pricing, dtype: object"
      ]
     },
     "execution_count": 13,
     "metadata": {},
     "output_type": "execute_result"
    }
   ],
   "source": [
    "df_c['pricing'].sample(9)"
   ]
  },
  {
   "cell_type": "code",
   "execution_count": 14,
   "id": "d7565e97",
   "metadata": {},
   "outputs": [],
   "source": [
    "# drop duplicates\n",
    "#df_c.duplicated().sum()"
   ]
  },
  {
   "cell_type": "code",
   "execution_count": 15,
   "id": "85ff3832",
   "metadata": {},
   "outputs": [
    {
     "data": {
      "text/plain": [
       "0"
      ]
     },
     "execution_count": 15,
     "metadata": {},
     "output_type": "execute_result"
    }
   ],
   "source": []
  },
  {
   "cell_type": "code",
   "execution_count": 15,
   "id": "4dfbc15f",
   "metadata": {},
   "outputs": [],
   "source": [
    "#df_c.drop_duplicates(inplace=True)"
   ]
  },
  {
   "cell_type": "code",
   "execution_count": 16,
   "id": "fe1c8a84",
   "metadata": {},
   "outputs": [],
   "source": [
    "#df_c.shape"
   ]
  },
  {
   "cell_type": "code",
   "execution_count": 17,
   "id": "e3e339b7",
   "metadata": {},
   "outputs": [],
   "source": [
    "# lower case in cuisines \n",
    "df_c['cuisines']=df_c['cuisines'].str.lower()\n"
   ]
  },
  {
   "cell_type": "code",
   "execution_count": 18,
   "id": "bbf6db44",
   "metadata": {},
   "outputs": [],
   "source": [
    "# address in lower case\n",
    "df_c['address']=df_c['address'].str.lower()"
   ]
  },
  {
   "cell_type": "code",
   "execution_count": 19,
   "id": "fd97bd85",
   "metadata": {},
   "outputs": [],
   "source": [
    "df_c['restaurant_name']=df_c['restaurant_name'].str.lower()"
   ]
  },
  {
   "cell_type": "code",
   "execution_count": 20,
   "id": "a1779c17",
   "metadata": {},
   "outputs": [
    {
     "data": {
      "text/plain": [
       "address\n",
       "mehsana city                   43\n",
       "mehsana locality               16\n",
       "radhanpur road                  8\n",
       "nagalpur                        5\n",
       "kunal                           4\n",
       "radhakrishna township           2\n",
       "shraddhadip society             2\n",
       "suramya park society            2\n",
       "mehsana                         2\n",
       "mahesana                        1\n",
       "jagannath mandir rd             1\n",
       "geb visnagar road               1\n",
       "radhanpur road opp d mart       1\n",
       "surdhara society                1\n",
       "tirupati shahibaug township     1\n",
       "bansari township                1\n",
       "Name: count, dtype: int64"
      ]
     },
     "execution_count": 20,
     "metadata": {},
     "output_type": "execute_result"
    }
   ],
   "source": [
    "df_c[df_c['city']=='mehsana']['address'].value_counts()\n",
    "# here still one problem there is differ names are located where logic is same \n",
    "# example there are some values like [mehsana city, mehsana locality, mehsana ,mahesana,radhanpur road opp d mart,radhanpur road ]\n"
   ]
  },
  {
   "cell_type": "code",
   "execution_count": 21,
   "id": "b3e28d2d",
   "metadata": {},
   "outputs": [],
   "source": [
    "name_trans = ['mehsana city', 'mehsana locality', 'mahesana']\n",
    "name_trans2 = ['radhanpur road opp d mart']\n",
    "\n",
    "# Function to replace address based on city\n",
    "def replace_address(df_c, city):\n",
    "    # Filter rows based on the specified city\n",
    "    mask = df_c['city'] == city\n",
    "    \n",
    "    # Apply the replacement logic\n",
    "    def replace_logic(x):\n",
    "        # Check if any term from name_trans or name_trans2 is in the address\n",
    "        if any(term in x.lower() for term in name_trans) or any(term in x.lower() for term in name_trans2):\n",
    "            return 'mehsana'\n",
    "        else:\n",
    "            return x\n",
    "    \n",
    "    # Apply the logic to the 'address' column for the filtered rows\n",
    "    df_c.loc[mask, 'address'] = df_c.loc[mask, 'address'].apply(replace_logic)\n",
    "    \n",
    "    return df_c"
   ]
  },
  {
   "cell_type": "code",
   "execution_count": 22,
   "id": "d3946747",
   "metadata": {},
   "outputs": [],
   "source": [
    "df_c=replace_address(df_c, city='mehsana')\n"
   ]
  },
  {
   "cell_type": "code",
   "execution_count": 23,
   "id": "bbeaf0c5",
   "metadata": {},
   "outputs": [
    {
     "data": {
      "text/plain": [
       "address\n",
       "mehsana                        63\n",
       "radhanpur road                  8\n",
       "nagalpur                        5\n",
       "kunal                           4\n",
       "radhakrishna township           2\n",
       "shraddhadip society             2\n",
       "suramya park society            2\n",
       "jagannath mandir rd             1\n",
       "geb visnagar road               1\n",
       "surdhara society                1\n",
       "tirupati shahibaug township     1\n",
       "bansari township                1\n",
       "Name: count, dtype: int64"
      ]
     },
     "execution_count": 23,
     "metadata": {},
     "output_type": "execute_result"
    }
   ],
   "source": [
    "df_c[df_c['city']=='mehsana']['address'].value_counts()"
   ]
  },
  {
   "cell_type": "code",
   "execution_count": 24,
   "id": "c6e106de",
   "metadata": {},
   "outputs": [
    {
     "data": {
      "text/plain": [
       "array(['gandhinagar', 'reliance cross road', 'sector 11', 'orbit mall',\n",
       "       'gandhinagar rk', 'infocity', 'pramukh cyprus', 'sector 16',\n",
       "       'airport gandhinagar highway', 'kudasan', 'sargasan', 'kudason',\n",
       "       'near aashka multispeciality hospital',\n",
       "       'near aashka hospital sargasan', 'sector 12b', 'giftcity',\n",
       "       'pramukh mast ananr reliance croos kudasan', 'ahm_gandhinagar',\n",
       "       'radhe square', 'dholakuwa opp pramukh arcade',\n",
       "       'william johnâ\\x80\\x99s pizza', 'kudasan, gandhinagar', 'adalaj',\n",
       "       'sector 30', 'papakipari', 'business park,rayson', 'thaltej',\n",
       "       'alfa one mall', 'sky forest bulding', 'sky forest', 'navrangpura',\n",
       "       'avlon hotel', 'gota', 'vastrapur', 'gurukul', 'bodakdev',\n",
       "       'ahmedabad', 'satellite', 'bapunagar', 'ellis bridge',\n",
       "       'nikol torrent power', 'ashram road', 'sola', 'chandkheda',\n",
       "       'ambawadi', 'ghatlodia', 'naroda', 'kubernagar', 'memnagar',\n",
       "       'new science city road,', 'dariapur', 'shahibag', 'maninagar',\n",
       "       'chandkhera', 'science city road', 'vaishno devi circle',\n",
       "       'ahm_chandkheda', 'hebatpur road, zydus hospital', 'tapovan',\n",
       "       'c g road', 'chandkheda hiway road', 'sarkari vasahat road',\n",
       "       'cg road', 'prahlad nagar', 'thaltej, near bhagban party plot',\n",
       "       'phoenix palladium', 'nirnay nagar', 'malabar county 2', 'nikol',\n",
       "       'prem chand nagar', 'nava naroda', 'naranpura', 'subhash bridge',\n",
       "       'shahibagh', 'magnifico complex', 'silver radiance 2',\n",
       "       'gulbai tekra', 'balaji avenue, vastrapur', 'science city',\n",
       "       'scheme-01 road', 'dudheshwar', 'palladium mall',\n",
       "       'chandkheramotera', 'ioc road chandkheda', 'sindhu bhavan road',\n",
       "       'gomtipur', 'advait complex', 'university area', 'saijpur bogha',\n",
       "       'drive in road', 'sindhu bhavan', 'paldi & ambawadi',\n",
       "       'india colony', 'jodhpur', 'mangaljyot complex',\n",
       "       'parul nagar society', 'ramdev nagar', 'ioc road',\n",
       "       'amrawadi(east zone)', 'naranpura(west zone)', 'chandlodiya',\n",
       "       'adani shantigram township', 'khoraj',\n",
       "       'vastrapur ahemdabad, thaltej(new west zone)',\n",
       "       'ashok vihar circle', 'bopal', 'vastral', 'zundal', 'motera',\n",
       "       'tragad road', 'new west zone', 'advance mill', 'new ranip',\n",
       "       'ellisbridge', 'akhbar nagar circle', 'vastral east',\n",
       "       'jagatpur road ,opposite atharva landmark', 'janata nagar',\n",
       "       'gidc naroda', 'panjara pol', 'pujan residency',\n",
       "       'opp. binori ambit', 'off cg road', 'arihant nagar',\n",
       "       'nikol (sp ring road)', 'shivranjani cross road',\n",
       "       'sanjivani hospital', 'pure eaty, besides devraj farm', 'bhat',\n",
       "       'gota(new west zone)', 'satellite, ahmedabad', 'nr.auda garden',\n",
       "       'vasna road', 'kuber nagar', 'old wadaj', 'nana chiloda',\n",
       "       'nava vadaj', 'bapu nagar', 'jodhpur village', 'wow waffles',\n",
       "       'behide pallavi park', 'talavadi char rasta', 'ankur road',\n",
       "       'indiyana pizza', 'jagatpur, ahmedabad', 'chanakyapuri',\n",
       "       'campus corner', 'usmanpura, naranpura', 'shilaj', 'usampura',\n",
       "       'usmanpura', 'vitthal maharaj ka dhaba', 'parasnagar', 'shahibaug',\n",
       "       'vijay cross', 'naroda (soni ni chali)', 'fire station road',\n",
       "       'thakkarbapa nagar', 'ahemdabad, thaltej(new west zone)',\n",
       "       'comm six road', 'kotarpur', 'ghewar complex, shahibaug', 'kalol',\n",
       "       'meghani nagar', '150 ft ring road', 'victoria heaven',\n",
       "       'suvidhanagar', 'rakhiyal road', 'chandkheda zundal',\n",
       "       'ranchhod nagar society', 'adani shantigram', 'ranip', 'shahpur',\n",
       "       'gst road', 'odhav', 'char rasta', 'subhash bridge naka',\n",
       "       'gota ahmedabad', 'ghatlodiya(new west zone)', 'sardarnagar',\n",
       "       'nr. approch road , saradarnagar', 'bhadaj', 'bhaktinagar',\n",
       "       'shastrinagar', 'navarngpura', 'ankur cross road', 'sughad',\n",
       "       'shahibug', 'prabhat chowk', 'ellis-brigde', 'sabarmati',\n",
       "       'alpha one mall', 'dehgam road', 'raysan', 'pethapur,gandhinagar',\n",
       "       'sector 29', 'district shopping centre', 'vasana hadmatia',\n",
       "       'vavol', 'kudasan infocity', 'pethapur',\n",
       "       'sanjari park 3 society, pethapur gandhinagar'], dtype=object)"
      ]
     },
     "execution_count": 24,
     "metadata": {},
     "output_type": "execute_result"
    }
   ],
   "source": [
    "df_c[df_c['city']=='gandhinagar']['address'].unique()"
   ]
  },
  {
   "cell_type": "code",
   "execution_count": 25,
   "id": "9e19bb70",
   "metadata": {},
   "outputs": [],
   "source": [
    "name_trans_g = ['ahm_gandhinagar', 'ahmedabad','ahemdabad']\n",
    "\n",
    "# Function to replace address based on city\n",
    "def replace_address(df_c, city):\n",
    "    # Filter rows based on the specified city\n",
    "    mask = df_c['city'] == city\n",
    "    \n",
    "    # Apply the replacement logic\n",
    "    df_c.loc[mask, 'address'] = df_c.loc[mask, 'address'].apply(\n",
    "        lambda x: 'gandhinagar' if x.lower() in name_trans_g else x)\n",
    "    \n",
    "    return df_c"
   ]
  },
  {
   "cell_type": "code",
   "execution_count": 26,
   "id": "bb28012d",
   "metadata": {},
   "outputs": [],
   "source": [
    "df_c=replace_address(df_c,city='gandhinagar')"
   ]
  },
  {
   "cell_type": "code",
   "execution_count": 27,
   "id": "576c0e6d",
   "metadata": {},
   "outputs": [
    {
     "data": {
      "text/html": [
       "<div>\n",
       "<style scoped>\n",
       "    .dataframe tbody tr th:only-of-type {\n",
       "        vertical-align: middle;\n",
       "    }\n",
       "\n",
       "    .dataframe tbody tr th {\n",
       "        vertical-align: top;\n",
       "    }\n",
       "\n",
       "    .dataframe thead th {\n",
       "        text-align: right;\n",
       "    }\n",
       "</style>\n",
       "<table border=\"1\" class=\"dataframe\">\n",
       "  <thead>\n",
       "    <tr style=\"text-align: right;\">\n",
       "      <th></th>\n",
       "      <th>Unnamed: 0</th>\n",
       "      <th>restaurant_name</th>\n",
       "      <th>ratings</th>\n",
       "      <th>cuisines</th>\n",
       "      <th>pricing</th>\n",
       "      <th>address</th>\n",
       "      <th>distance</th>\n",
       "      <th>city</th>\n",
       "    </tr>\n",
       "  </thead>\n",
       "  <tbody>\n",
       "  </tbody>\n",
       "</table>\n",
       "</div>"
      ],
      "text/plain": [
       "Empty DataFrame\n",
       "Columns: [Unnamed: 0, restaurant_name, ratings, cuisines, pricing, address, distance, city]\n",
       "Index: []"
      ]
     },
     "execution_count": 27,
     "metadata": {},
     "output_type": "execute_result"
    }
   ],
   "source": [
    "df_c[(df_c['city']=='gandhinagar') & (df_c['address']=='ahmedabad')]"
   ]
  },
  {
   "cell_type": "code",
   "execution_count": 28,
   "id": "e3c44bf7",
   "metadata": {},
   "outputs": [
    {
     "data": {
      "text/plain": [
       "address\n",
       "akota                  102\n",
       "mandvi                  81\n",
       "fatehgunj               71\n",
       "manjalpur               56\n",
       "alkapuri                39\n",
       "                      ... \n",
       "vasna road,vadodara      1\n",
       "karelibaugh              1\n",
       "babajipura               1\n",
       "racecourse road          1\n",
       "shubhanpura              1\n",
       "Name: count, Length: 86, dtype: int64"
      ]
     },
     "execution_count": 28,
     "metadata": {},
     "output_type": "execute_result"
    }
   ],
   "source": [
    "df_c[df_c['city']=='vadodara']['address'].value_counts()"
   ]
  },
  {
   "cell_type": "code",
   "execution_count": 29,
   "id": "2170d00d",
   "metadata": {},
   "outputs": [
    {
     "data": {
      "text/plain": [
       "address\n",
       "mahadev nagar                      76\n",
       "vallabh vidyanagar                 72\n",
       "gamdi                               9\n",
       "gidc                                4\n",
       "rajodpura                           4\n",
       "karamsad                            3\n",
       "hadgood                             3\n",
       "neelkanth nagar                     3\n",
       "amul dairy road                     3\n",
       "jitodia                             3\n",
       "vivekanand wadi                     3\n",
       "anand sojitra road                  2\n",
       "new bus stand                       2\n",
       "sojitra road                        2\n",
       "bakrol                              2\n",
       "shah heights                        2\n",
       "maruti solaris annex                2\n",
       "triveni arcade                      2\n",
       "tukki gali                          1\n",
       "townhall                            1\n",
       "maruti solaris annex, anand         1\n",
       "new vidyanagar                      1\n",
       "100ft road                          1\n",
       "nanikhodiyar                        1\n",
       "municipal hospital                  1\n",
       "popati nagar                        1\n",
       "mota bazaar, vallabh vidyanagar     1\n",
       "vivekanad wadi                      1\n",
       "b/s nehru park                      1\n",
       "apc                                 1\n",
       "inside gold cinema                  1\n",
       "shastri bag                         1\n",
       "inside janta railway station        1\n",
       "iscon road                          1\n",
       "gujarati chok                       1\n",
       "inside gallops food plaza           1\n",
       "vidyanagar                          1\n",
       "a v road beside vaipav tower        1\n",
       "janta                               1\n",
       "samarkha chokdi                     1\n",
       "vallabh                             1\n",
       "Name: count, dtype: int64"
      ]
     },
     "execution_count": 29,
     "metadata": {},
     "output_type": "execute_result"
    }
   ],
   "source": [
    "df_c.loc[df_c['city'] == 'anand', 'address'] = df_c.loc[df_c['city'] == 'anand', 'address'].replace(to_replace=['mahadev-nagar', 'mahadevnagar'], value='mahadev nagar')\n",
    "\n",
    "df_c[df_c['city'] == 'anand']['address'] .value_counts()"
   ]
  },
  {
   "cell_type": "code",
   "execution_count": 30,
   "id": "49b56248",
   "metadata": {},
   "outputs": [
    {
     "data": {
      "text/plain": [
       "address\n",
       "nadiad city         42\n",
       "college road        13\n",
       "shanti nagar        10\n",
       "pij road             9\n",
       "vaniyavad circle     8\n",
       "nadiad locality      7\n",
       "nadiad               6\n",
       "pij crossing         4\n",
       "petlad road          3\n",
       "bus stand            3\n",
       "nagarpalika road     2\n",
       "kamda crossing       2\n",
       "santram market       2\n",
       "uttarsanda road      1\n",
       "nadiad pij road      1\n",
       "amdavadi bazar       1\n",
       "Name: count, dtype: int64"
      ]
     },
     "execution_count": 30,
     "metadata": {},
     "output_type": "execute_result"
    }
   ],
   "source": [
    "df_c[df_c['city']=='nadiyad']['address'].value_counts()\n",
    "#'nadiad city ,nadiad , nadiad locality '\n",
    "#name_trans=['nadiad city' ,'nadiad' , 'nadiad locality']\n",
    "#name_trans"
   ]
  },
  {
   "cell_type": "code",
   "execution_count": 31,
   "id": "5a3a65c5",
   "metadata": {},
   "outputs": [],
   "source": [
    "name_trans_n=['nadiad city' ,'nadiad' , 'nadiad locality']\n",
    "\n",
    "# Function to replace address based on city\n",
    "def replace_address(df_c, city):\n",
    "    # Filter rows based on the specified city\n",
    "    mask = df_c['city'] == city\n",
    "    \n",
    "    # Apply the replacement logic\n",
    "    df_c.loc[mask, 'address'] = df_c.loc[mask, 'address'].apply(\n",
    "        lambda x: 'nadiyad' if x.lower() in name_trans_n else x)\n",
    "    \n",
    "    return df_c\n",
    "\n"
   ]
  },
  {
   "cell_type": "code",
   "execution_count": 32,
   "id": "00260b14",
   "metadata": {},
   "outputs": [],
   "source": [
    "df_c=replace_address(df_c,city='nadiyad')"
   ]
  },
  {
   "cell_type": "code",
   "execution_count": 33,
   "id": "1a83b286",
   "metadata": {},
   "outputs": [
    {
     "data": {
      "text/plain": [
       "address\n",
       "nadiyad             55\n",
       "college road        13\n",
       "shanti nagar        10\n",
       "pij road             9\n",
       "vaniyavad circle     8\n",
       "pij crossing         4\n",
       "petlad road          3\n",
       "bus stand            3\n",
       "nagarpalika road     2\n",
       "kamda crossing       2\n",
       "santram market       2\n",
       "uttarsanda road      1\n",
       "nadiad pij road      1\n",
       "amdavadi bazar       1\n",
       "Name: count, dtype: int64"
      ]
     },
     "execution_count": 33,
     "metadata": {},
     "output_type": "execute_result"
    }
   ],
   "source": [
    "df_c[df_c['city']=='nadiyad']['address'].value_counts()"
   ]
  },
  {
   "cell_type": "code",
   "execution_count": 34,
   "id": "265697ca",
   "metadata": {},
   "outputs": [
    {
     "data": {
      "text/plain": [
       "address\n",
       "mehsana                        63\n",
       "radhanpur road                  8\n",
       "nagalpur                        5\n",
       "kunal                           4\n",
       "radhakrishna township           2\n",
       "shraddhadip society             2\n",
       "suramya park society            2\n",
       "jagannath mandir rd             1\n",
       "geb visnagar road               1\n",
       "surdhara society                1\n",
       "tirupati shahibaug township     1\n",
       "bansari township                1\n",
       "Name: count, dtype: int64"
      ]
     },
     "execution_count": 34,
     "metadata": {},
     "output_type": "execute_result"
    }
   ],
   "source": [
    "df_c[df_c['city']=='mehsana']['address'].value_counts()"
   ]
  },
  {
   "cell_type": "code",
   "execution_count": 35,
   "id": "3a6f367c",
   "metadata": {},
   "outputs": [
    {
     "data": {
      "text/plain": [
       "city\n",
       "ahmedabad      1577\n",
       "gandhinagar    1554\n",
       "vadodara        660\n",
       "anand           220\n",
       "nadiyad         114\n",
       "mehsana          91\n",
       "Name: count, dtype: int64"
      ]
     },
     "execution_count": 35,
     "metadata": {},
     "output_type": "execute_result"
    }
   ],
   "source": [
    "df_c['city'].value_counts()"
   ]
  },
  {
   "cell_type": "code",
   "execution_count": 36,
   "id": "dc68fc1c",
   "metadata": {},
   "outputs": [],
   "source": [
    "df_c.drop(columns='Unnamed: 0',inplace=True)"
   ]
  },
  {
   "cell_type": "code",
   "execution_count": 37,
   "id": "25e9f17d",
   "metadata": {},
   "outputs": [
    {
     "data": {
      "text/plain": [
       "66"
      ]
     },
     "execution_count": 37,
     "metadata": {},
     "output_type": "execute_result"
    }
   ],
   "source": [
    "df_c.duplicated().sum()"
   ]
  },
  {
   "cell_type": "code",
   "execution_count": 38,
   "id": "c79ea0da",
   "metadata": {},
   "outputs": [],
   "source": [
    "df_c.drop_duplicates(inplace=True)"
   ]
  },
  {
   "cell_type": "code",
   "execution_count": 39,
   "id": "22605266",
   "metadata": {},
   "outputs": [
    {
     "data": {
      "text/plain": [
       "(4150, 7)"
      ]
     },
     "execution_count": 39,
     "metadata": {},
     "output_type": "execute_result"
    }
   ],
   "source": [
    "df_c.shape"
   ]
  },
  {
   "cell_type": "code",
   "execution_count": 35,
   "id": "9a3f3be3",
   "metadata": {},
   "outputs": [
    {
     "data": {
      "text/html": [
       "<div>\n",
       "<style scoped>\n",
       "    .dataframe tbody tr th:only-of-type {\n",
       "        vertical-align: middle;\n",
       "    }\n",
       "\n",
       "    .dataframe tbody tr th {\n",
       "        vertical-align: top;\n",
       "    }\n",
       "\n",
       "    .dataframe thead th {\n",
       "        text-align: right;\n",
       "    }\n",
       "</style>\n",
       "<table border=\"1\" class=\"dataframe\">\n",
       "  <thead>\n",
       "    <tr style=\"text-align: right;\">\n",
       "      <th></th>\n",
       "      <th>Unnamed: 0</th>\n",
       "      <th>restaurant_name</th>\n",
       "      <th>ratings</th>\n",
       "      <th>cuisines</th>\n",
       "      <th>pricing</th>\n",
       "      <th>address</th>\n",
       "      <th>distance</th>\n",
       "      <th>city</th>\n",
       "    </tr>\n",
       "  </thead>\n",
       "  <tbody>\n",
       "    <tr>\n",
       "      <th>0</th>\n",
       "      <td>0</td>\n",
       "      <td>KFC</td>\n",
       "      <td>4.4</td>\n",
       "      <td>Burgers, Fast Food, Rolls &amp; Wraps</td>\n",
       "      <td>40% OFF UPTO ?80</td>\n",
       "      <td>Vallabh Vidyanagar</td>\n",
       "      <td>35-40</td>\n",
       "      <td>anand</td>\n",
       "    </tr>\n",
       "    <tr>\n",
       "      <th>1</th>\n",
       "      <td>1</td>\n",
       "      <td>KFC</td>\n",
       "      <td>4.4</td>\n",
       "      <td>Burgers, Fast Food, Rolls &amp; Wraps</td>\n",
       "      <td>40% OFF UPTO ?80</td>\n",
       "      <td>Vallabh Vidyanagar</td>\n",
       "      <td>35-40</td>\n",
       "      <td>anand</td>\n",
       "    </tr>\n",
       "    <tr>\n",
       "      <th>2</th>\n",
       "      <td>2</td>\n",
       "      <td>Pizza Hut</td>\n",
       "      <td>4.3</td>\n",
       "      <td>Pizzas</td>\n",
       "      <td>ITEMS AT ?189</td>\n",
       "      <td>Hadgood</td>\n",
       "      <td>40-45</td>\n",
       "      <td>anand</td>\n",
       "    </tr>\n",
       "    <tr>\n",
       "      <th>3</th>\n",
       "      <td>3</td>\n",
       "      <td>Pizza Hut</td>\n",
       "      <td>4.3</td>\n",
       "      <td>Pizzas</td>\n",
       "      <td>ITEMS AT ?189</td>\n",
       "      <td>Hadgood</td>\n",
       "      <td>40-45</td>\n",
       "      <td>anand</td>\n",
       "    </tr>\n",
       "    <tr>\n",
       "      <th>4</th>\n",
       "      <td>4</td>\n",
       "      <td>Subway</td>\n",
       "      <td>4.4</td>\n",
       "      <td>Healthy Food, Salads, Fast Food</td>\n",
       "      <td>NaN</td>\n",
       "      <td>mahadev-nagar</td>\n",
       "      <td>30-35</td>\n",
       "      <td>anand</td>\n",
       "    </tr>\n",
       "    <tr>\n",
       "      <th>...</th>\n",
       "      <td>...</td>\n",
       "      <td>...</td>\n",
       "      <td>...</td>\n",
       "      <td>...</td>\n",
       "      <td>...</td>\n",
       "      <td>...</td>\n",
       "      <td>...</td>\n",
       "      <td>...</td>\n",
       "    </tr>\n",
       "    <tr>\n",
       "      <th>4211</th>\n",
       "      <td>4211</td>\n",
       "      <td>Ganga Gayatri Samosa</td>\n",
       "      <td>4.3</td>\n",
       "      <td>Fast Food, Street Food, Snacks</td>\n",
       "      <td>10% OFF UPTO ?40</td>\n",
       "      <td>Bus Stand</td>\n",
       "      <td>35-40</td>\n",
       "      <td>nadiyad</td>\n",
       "    </tr>\n",
       "    <tr>\n",
       "      <th>4212</th>\n",
       "      <td>4212</td>\n",
       "      <td>Bombay Chopati Bhelpuri Center</td>\n",
       "      <td>4.4</td>\n",
       "      <td>Chaat, Snacks</td>\n",
       "      <td>10% OFF UPTO ?40</td>\n",
       "      <td>Nadiad City</td>\n",
       "      <td>35-40</td>\n",
       "      <td>nadiyad</td>\n",
       "    </tr>\n",
       "    <tr>\n",
       "      <th>4213</th>\n",
       "      <td>4213</td>\n",
       "      <td>JANTA PAUBHAJI PULAV ICE CREAM CENTER</td>\n",
       "      <td>NaN</td>\n",
       "      <td>Indian</td>\n",
       "      <td>NaN</td>\n",
       "      <td>Nadiad City</td>\n",
       "      <td>None</td>\n",
       "      <td>nadiyad</td>\n",
       "    </tr>\n",
       "    <tr>\n",
       "      <th>4214</th>\n",
       "      <td>4214</td>\n",
       "      <td>Bao Box</td>\n",
       "      <td>NaN</td>\n",
       "      <td>Chinese, Indian, Asian</td>\n",
       "      <td>?75 OFF ABOVE ?399</td>\n",
       "      <td>Nadiad City</td>\n",
       "      <td>None</td>\n",
       "      <td>nadiyad</td>\n",
       "    </tr>\n",
       "    <tr>\n",
       "      <th>4215</th>\n",
       "      <td>4215</td>\n",
       "      <td>Celebration Foods</td>\n",
       "      <td>NaN</td>\n",
       "      <td>Beverages, Fast Food</td>\n",
       "      <td>NaN</td>\n",
       "      <td>Nadiad</td>\n",
       "      <td>None</td>\n",
       "      <td>nadiyad</td>\n",
       "    </tr>\n",
       "  </tbody>\n",
       "</table>\n",
       "<p>4216 rows × 8 columns</p>\n",
       "</div>"
      ],
      "text/plain": [
       "      Unnamed: 0                        restaurant_name ratings  \\\n",
       "0              0                                    KFC    4.4    \n",
       "1              1                                    KFC    4.4    \n",
       "2              2                              Pizza Hut    4.3    \n",
       "3              3                              Pizza Hut    4.3    \n",
       "4              4                                 Subway    4.4    \n",
       "...          ...                                    ...     ...   \n",
       "4211        4211                   Ganga Gayatri Samosa   4.3     \n",
       "4212        4212         Bombay Chopati Bhelpuri Center   4.4     \n",
       "4213        4213  JANTA PAUBHAJI PULAV ICE CREAM CENTER     NaN   \n",
       "4214        4214                                Bao Box     NaN   \n",
       "4215        4215                      Celebration Foods     NaN   \n",
       "\n",
       "                               cuisines             pricing  \\\n",
       "0     Burgers, Fast Food, Rolls & Wraps    40% OFF UPTO ?80   \n",
       "1     Burgers, Fast Food, Rolls & Wraps    40% OFF UPTO ?80   \n",
       "2                                Pizzas       ITEMS AT ?189   \n",
       "3                                Pizzas       ITEMS AT ?189   \n",
       "4       Healthy Food, Salads, Fast Food                 NaN   \n",
       "...                                 ...                 ...   \n",
       "4211     Fast Food, Street Food, Snacks    10% OFF UPTO ?40   \n",
       "4212                      Chaat, Snacks    10% OFF UPTO ?40   \n",
       "4213                             Indian                 NaN   \n",
       "4214             Chinese, Indian, Asian  ?75 OFF ABOVE ?399   \n",
       "4215               Beverages, Fast Food                 NaN   \n",
       "\n",
       "                 address distance     city  \n",
       "0     Vallabh Vidyanagar   35-40     anand  \n",
       "1     Vallabh Vidyanagar   35-40     anand  \n",
       "2                Hadgood   40-45     anand  \n",
       "3                Hadgood   40-45     anand  \n",
       "4          mahadev-nagar   30-35     anand  \n",
       "...                  ...      ...      ...  \n",
       "4211           Bus Stand   35-40   nadiyad  \n",
       "4212         Nadiad City   35-40   nadiyad  \n",
       "4213         Nadiad City     None  nadiyad  \n",
       "4214         Nadiad City     None  nadiyad  \n",
       "4215              Nadiad     None  nadiyad  \n",
       "\n",
       "[4216 rows x 8 columns]"
      ]
     },
     "execution_count": 35,
     "metadata": {},
     "output_type": "execute_result"
    }
   ],
   "source": [
    "df_c"
   ]
  },
  {
   "cell_type": "code",
   "execution_count": 41,
   "id": "a24c24f7",
   "metadata": {},
   "outputs": [],
   "source": [
    "# ditance into average time\n",
    "\n",
    "def convert_distance(distance_str):\n",
    "    if isinstance(distance_str, str):  # Check if the value is a string\n",
    "        min_time, max_time = map(int, distance_str.split('-'))\n",
    "        return round((min_time + max_time) / 2)\n",
    "    else:\n",
    "        return np.nan  # Handle non-string values, e.g., NaN\n"
   ]
  },
  {
   "cell_type": "code",
   "execution_count": 42,
   "id": "b7992a70",
   "metadata": {},
   "outputs": [],
   "source": [
    "df_c['distance'] = df_c['distance'].apply(convert_distance)"
   ]
  },
  {
   "cell_type": "code",
   "execution_count": 43,
   "id": "280a0861",
   "metadata": {},
   "outputs": [
    {
     "data": {
      "text/html": [
       "<div>\n",
       "<style scoped>\n",
       "    .dataframe tbody tr th:only-of-type {\n",
       "        vertical-align: middle;\n",
       "    }\n",
       "\n",
       "    .dataframe tbody tr th {\n",
       "        vertical-align: top;\n",
       "    }\n",
       "\n",
       "    .dataframe thead th {\n",
       "        text-align: right;\n",
       "    }\n",
       "</style>\n",
       "<table border=\"1\" class=\"dataframe\">\n",
       "  <thead>\n",
       "    <tr style=\"text-align: right;\">\n",
       "      <th></th>\n",
       "      <th>restaurant_name</th>\n",
       "      <th>ratings</th>\n",
       "      <th>cuisines</th>\n",
       "      <th>pricing</th>\n",
       "      <th>address</th>\n",
       "      <th>distance</th>\n",
       "      <th>city</th>\n",
       "    </tr>\n",
       "  </thead>\n",
       "  <tbody>\n",
       "    <tr>\n",
       "      <th>0</th>\n",
       "      <td>kfc</td>\n",
       "      <td>4.4</td>\n",
       "      <td>burgers, fast food, rolls &amp; wraps</td>\n",
       "      <td>80</td>\n",
       "      <td>vallabh vidyanagar</td>\n",
       "      <td>38.0</td>\n",
       "      <td>anand</td>\n",
       "    </tr>\n",
       "    <tr>\n",
       "      <th>2</th>\n",
       "      <td>pizza hut</td>\n",
       "      <td>4.3</td>\n",
       "      <td>pizzas</td>\n",
       "      <td>189</td>\n",
       "      <td>hadgood</td>\n",
       "      <td>42.0</td>\n",
       "      <td>anand</td>\n",
       "    </tr>\n",
       "    <tr>\n",
       "      <th>4</th>\n",
       "      <td>subway</td>\n",
       "      <td>4.4</td>\n",
       "      <td>healthy food, salads, fast food</td>\n",
       "      <td>NaN</td>\n",
       "      <td>mahadev nagar</td>\n",
       "      <td>32.0</td>\n",
       "      <td>anand</td>\n",
       "    </tr>\n",
       "    <tr>\n",
       "      <th>6</th>\n",
       "      <td>mcdonald's</td>\n",
       "      <td>4.4</td>\n",
       "      <td>burgers, beverages, cafe, desserts</td>\n",
       "      <td>179</td>\n",
       "      <td>vallabh vidyanagar</td>\n",
       "      <td>32.0</td>\n",
       "      <td>anand</td>\n",
       "    </tr>\n",
       "    <tr>\n",
       "      <th>8</th>\n",
       "      <td>the belgian waffle co.</td>\n",
       "      <td>4.6</td>\n",
       "      <td>waffle, desserts, ice cream, beverages</td>\n",
       "      <td>NaN</td>\n",
       "      <td>triveni arcade</td>\n",
       "      <td>38.0</td>\n",
       "      <td>anand</td>\n",
       "    </tr>\n",
       "    <tr>\n",
       "      <th>...</th>\n",
       "      <td>...</td>\n",
       "      <td>...</td>\n",
       "      <td>...</td>\n",
       "      <td>...</td>\n",
       "      <td>...</td>\n",
       "      <td>...</td>\n",
       "      <td>...</td>\n",
       "    </tr>\n",
       "    <tr>\n",
       "      <th>4211</th>\n",
       "      <td>ganga gayatri samosa</td>\n",
       "      <td>4.3</td>\n",
       "      <td>fast food, street food, snacks</td>\n",
       "      <td>40</td>\n",
       "      <td>bus stand</td>\n",
       "      <td>38.0</td>\n",
       "      <td>nadiyad</td>\n",
       "    </tr>\n",
       "    <tr>\n",
       "      <th>4212</th>\n",
       "      <td>bombay chopati bhelpuri center</td>\n",
       "      <td>4.4</td>\n",
       "      <td>chaat, snacks</td>\n",
       "      <td>40</td>\n",
       "      <td>nadiyad</td>\n",
       "      <td>38.0</td>\n",
       "      <td>nadiyad</td>\n",
       "    </tr>\n",
       "    <tr>\n",
       "      <th>4213</th>\n",
       "      <td>janta paubhaji pulav ice cream center</td>\n",
       "      <td>NaN</td>\n",
       "      <td>indian</td>\n",
       "      <td>NaN</td>\n",
       "      <td>nadiyad</td>\n",
       "      <td>NaN</td>\n",
       "      <td>nadiyad</td>\n",
       "    </tr>\n",
       "    <tr>\n",
       "      <th>4214</th>\n",
       "      <td>bao box</td>\n",
       "      <td>NaN</td>\n",
       "      <td>chinese, indian, asian</td>\n",
       "      <td>NaN</td>\n",
       "      <td>nadiyad</td>\n",
       "      <td>NaN</td>\n",
       "      <td>nadiyad</td>\n",
       "    </tr>\n",
       "    <tr>\n",
       "      <th>4215</th>\n",
       "      <td>celebration foods</td>\n",
       "      <td>NaN</td>\n",
       "      <td>beverages, fast food</td>\n",
       "      <td>NaN</td>\n",
       "      <td>nadiyad</td>\n",
       "      <td>NaN</td>\n",
       "      <td>nadiyad</td>\n",
       "    </tr>\n",
       "  </tbody>\n",
       "</table>\n",
       "<p>4150 rows × 7 columns</p>\n",
       "</div>"
      ],
      "text/plain": [
       "                            restaurant_name ratings  \\\n",
       "0                                       kfc    4.4    \n",
       "2                                 pizza hut    4.3    \n",
       "4                                    subway    4.4    \n",
       "6                                mcdonald's    4.4    \n",
       "8                    the belgian waffle co.    4.6    \n",
       "...                                     ...     ...   \n",
       "4211                   ganga gayatri samosa   4.3     \n",
       "4212         bombay chopati bhelpuri center   4.4     \n",
       "4213  janta paubhaji pulav ice cream center     NaN   \n",
       "4214                                bao box     NaN   \n",
       "4215                      celebration foods     NaN   \n",
       "\n",
       "                                    cuisines pricing             address  \\\n",
       "0          burgers, fast food, rolls & wraps      80  vallabh vidyanagar   \n",
       "2                                     pizzas     189             hadgood   \n",
       "4            healthy food, salads, fast food     NaN       mahadev nagar   \n",
       "6         burgers, beverages, cafe, desserts     179  vallabh vidyanagar   \n",
       "8     waffle, desserts, ice cream, beverages     NaN      triveni arcade   \n",
       "...                                      ...     ...                 ...   \n",
       "4211          fast food, street food, snacks      40           bus stand   \n",
       "4212                           chaat, snacks      40             nadiyad   \n",
       "4213                                  indian     NaN             nadiyad   \n",
       "4214                  chinese, indian, asian     NaN             nadiyad   \n",
       "4215                    beverages, fast food     NaN             nadiyad   \n",
       "\n",
       "      distance     city  \n",
       "0         38.0    anand  \n",
       "2         42.0    anand  \n",
       "4         32.0    anand  \n",
       "6         32.0    anand  \n",
       "8         38.0    anand  \n",
       "...        ...      ...  \n",
       "4211      38.0  nadiyad  \n",
       "4212      38.0  nadiyad  \n",
       "4213       NaN  nadiyad  \n",
       "4214       NaN  nadiyad  \n",
       "4215       NaN  nadiyad  \n",
       "\n",
       "[4150 rows x 7 columns]"
      ]
     },
     "execution_count": 43,
     "metadata": {},
     "output_type": "execute_result"
    }
   ],
   "source": [
    "df_c"
   ]
  },
  {
   "cell_type": "code",
   "execution_count": 44,
   "id": "014745b5",
   "metadata": {},
   "outputs": [],
   "source": [
    "#df_c.to_excel(\"C:\\\\Users\\\\Dell\\\\OneDrive\\\\Desktop\\\\missing_swiggy.xlsx\")"
   ]
  },
  {
   "cell_type": "code",
   "execution_count": 45,
   "id": "e18fb77a",
   "metadata": {},
   "outputs": [
    {
     "data": {
      "text/plain": [
       "2983    68.0\n",
       "3406    78.0\n",
       "2348     NaN\n",
       "1374    48.0\n",
       "691     42.0\n",
       "3252    68.0\n",
       "Name: distance, dtype: float64"
      ]
     },
     "execution_count": 45,
     "metadata": {},
     "output_type": "execute_result"
    }
   ],
   "source": [
    "df_c['distance'].sample(6)"
   ]
  },
  {
   "cell_type": "code",
   "execution_count": 46,
   "id": "11f44520",
   "metadata": {},
   "outputs": [
    {
     "data": {
      "text/plain": [
       "restaurant_name     0.000000\n",
       "ratings            18.024096\n",
       "cuisines            0.000000\n",
       "pricing            71.397590\n",
       "address             0.000000\n",
       "distance           18.024096\n",
       "city                0.000000\n",
       "dtype: float64"
      ]
     },
     "execution_count": 46,
     "metadata": {},
     "output_type": "execute_result"
    }
   ],
   "source": [
    "df_c.isnull().mean()*100"
   ]
  },
  {
   "cell_type": "code",
   "execution_count": 47,
   "id": "bb53edd8",
   "metadata": {},
   "outputs": [],
   "source": [
    "# here we need to fill up the missing values of the ['ratings','pricing','distance']\n",
    "# they will not fill up by using the mean,median, or mode type because they are having the ratio of >5% which is big and may affect over model predication"
   ]
  },
  {
   "cell_type": "code",
   "execution_count": 48,
   "id": "7bfc5a63",
   "metadata": {},
   "outputs": [],
   "source": [
    "df_c['ratings']=df_c['ratings'].astype('float')\n",
    "df_c['pricing']=df_c['pricing'].astype('float')\n",
    "df_c['distance']=df_c['distance'].astype('float')"
   ]
  },
  {
   "cell_type": "code",
   "execution_count": 49,
   "id": "025483f8",
   "metadata": {},
   "outputs": [
    {
     "data": {
      "text/html": [
       "<div>\n",
       "<style scoped>\n",
       "    .dataframe tbody tr th:only-of-type {\n",
       "        vertical-align: middle;\n",
       "    }\n",
       "\n",
       "    .dataframe tbody tr th {\n",
       "        vertical-align: top;\n",
       "    }\n",
       "\n",
       "    .dataframe thead th {\n",
       "        text-align: right;\n",
       "    }\n",
       "</style>\n",
       "<table border=\"1\" class=\"dataframe\">\n",
       "  <thead>\n",
       "    <tr style=\"text-align: right;\">\n",
       "      <th></th>\n",
       "      <th>ratings</th>\n",
       "      <th>pricing</th>\n",
       "      <th>distance</th>\n",
       "      <th>city</th>\n",
       "    </tr>\n",
       "  </thead>\n",
       "  <tbody>\n",
       "    <tr>\n",
       "      <th>2430</th>\n",
       "      <td>4.3</td>\n",
       "      <td>NaN</td>\n",
       "      <td>38.0</td>\n",
       "      <td>ahmedabad</td>\n",
       "    </tr>\n",
       "    <tr>\n",
       "      <th>1746</th>\n",
       "      <td>4.6</td>\n",
       "      <td>150.0</td>\n",
       "      <td>52.0</td>\n",
       "      <td>ahmedabad</td>\n",
       "    </tr>\n",
       "    <tr>\n",
       "      <th>2377</th>\n",
       "      <td>5.0</td>\n",
       "      <td>NaN</td>\n",
       "      <td>42.0</td>\n",
       "      <td>ahmedabad</td>\n",
       "    </tr>\n",
       "    <tr>\n",
       "      <th>2313</th>\n",
       "      <td>2.0</td>\n",
       "      <td>45.0</td>\n",
       "      <td>48.0</td>\n",
       "      <td>ahmedabad</td>\n",
       "    </tr>\n",
       "    <tr>\n",
       "      <th>2001</th>\n",
       "      <td>3.6</td>\n",
       "      <td>NaN</td>\n",
       "      <td>38.0</td>\n",
       "      <td>ahmedabad</td>\n",
       "    </tr>\n",
       "    <tr>\n",
       "      <th>1544</th>\n",
       "      <td>4.1</td>\n",
       "      <td>120.0</td>\n",
       "      <td>38.0</td>\n",
       "      <td>ahmedabad</td>\n",
       "    </tr>\n",
       "  </tbody>\n",
       "</table>\n",
       "</div>"
      ],
      "text/plain": [
       "      ratings  pricing  distance       city\n",
       "2430      4.3      NaN      38.0  ahmedabad\n",
       "1746      4.6    150.0      52.0  ahmedabad\n",
       "2377      5.0      NaN      42.0  ahmedabad\n",
       "2313      2.0     45.0      48.0  ahmedabad\n",
       "2001      3.6      NaN      38.0  ahmedabad\n",
       "1544      4.1    120.0      38.0  ahmedabad"
      ]
     },
     "execution_count": 49,
     "metadata": {},
     "output_type": "execute_result"
    }
   ],
   "source": [
    "df_c[df_c['city']=='ahmedabad'][['ratings','pricing','distance','city']].sample(6)"
   ]
  },
  {
   "cell_type": "code",
   "execution_count": 50,
   "id": "bc691d23",
   "metadata": {},
   "outputs": [
    {
     "name": "stdout",
     "output_type": "stream",
     "text": [
      "<class 'pandas.core.frame.DataFrame'>\n",
      "Index: 4150 entries, 0 to 4215\n",
      "Data columns (total 7 columns):\n",
      " #   Column           Non-Null Count  Dtype  \n",
      "---  ------           --------------  -----  \n",
      " 0   restaurant_name  4150 non-null   object \n",
      " 1   ratings          3402 non-null   float64\n",
      " 2   cuisines         4150 non-null   object \n",
      " 3   pricing          1187 non-null   float64\n",
      " 4   address          4150 non-null   object \n",
      " 5   distance         3402 non-null   float64\n",
      " 6   city             4150 non-null   object \n",
      "dtypes: float64(3), object(4)\n",
      "memory usage: 259.4+ KB\n"
     ]
    }
   ],
   "source": [
    "df_c.info()"
   ]
  },
  {
   "cell_type": "code",
   "execution_count": 51,
   "id": "3bc9d122",
   "metadata": {},
   "outputs": [
    {
     "name": "stderr",
     "output_type": "stream",
     "text": [
      "C:\\ProgramData\\anaconda3\\Lib\\site-packages\\seaborn\\_oldcore.py:1119: FutureWarning: use_inf_as_na option is deprecated and will be removed in a future version. Convert inf values to NaN before operating instead.\n",
      "  with pd.option_context('mode.use_inf_as_na', True):\n"
     ]
    },
    {
     "data": {
      "image/png": "[encoded data removed]",
      "text/plain": [
       "<Figure size 640x480 with 1 Axes>"
      ]
     },
     "metadata": {},
     "output_type": "display_data"
    }
   ],
   "source": [
    "sns.kdeplot(df_c['pricing'])\n",
    "plt.show()"
   ]
  },
  {
   "cell_type": "code",
   "execution_count": 52,
   "id": "875c9867",
   "metadata": {},
   "outputs": [
    {
     "name": "stderr",
     "output_type": "stream",
     "text": [
      "C:\\ProgramData\\anaconda3\\Lib\\site-packages\\seaborn\\_oldcore.py:1119: FutureWarning: use_inf_as_na option is deprecated and will be removed in a future version. Convert inf values to NaN before operating instead.\n",
      "  with pd.option_context('mode.use_inf_as_na', True):\n"
     ]
    },
    {
     "data": {
      "image/png": "[encoded data removed]",
      "text/plain": [
       "<Figure size 640x480 with 1 Axes>"
      ]
     },
     "metadata": {},
     "output_type": "display_data"
    }
   ],
   "source": [
    "sns.kdeplot(df_c['ratings'])\n",
    "plt.show()"
   ]
  },
  {
   "cell_type": "code",
   "execution_count": 53,
   "id": "919c2d81",
   "metadata": {},
   "outputs": [
    {
     "name": "stderr",
     "output_type": "stream",
     "text": [
      "C:\\ProgramData\\anaconda3\\Lib\\site-packages\\seaborn\\_oldcore.py:1119: FutureWarning: use_inf_as_na option is deprecated and will be removed in a future version. Convert inf values to NaN before operating instead.\n",
      "  with pd.option_context('mode.use_inf_as_na', True):\n"
     ]
    },
    {
     "data": {
      "image/png": "[encoded data removed]",
      "text/plain": [
       "<Figure size 640x480 with 1 Axes>"
      ]
     },
     "metadata": {},
     "output_type": "display_data"
    }
   ],
   "source": [
    "sns.kdeplot(df_c['distance'])\n",
    "plt.show()"
   ]
  },
  {
   "cell_type": "markdown",
   "id": "55fa6162",
   "metadata": {},
   "source": [
    "[note] : Given that your dataset contains multiple cities, and you need to calculate weighted similarities that depend on accurate ratings, pricing, and distance, KNN imputation per city is likely the best approach. It will help maintain the integrity of city-specific patterns, ensuring more reliable recommendations"
   ]
  }
 ],
 "metadata": {
  "kernelspec": {
   "display_name": "Python 3 (ipykernel)",
   "language": "python",
   "name": "python3"
  },
  "language_info": {
   "codemirror_mode": {
    "name": "ipython",
    "version": 3
   },
   "file_extension": ".py",
   "mimetype": "text/x-python",
   "name": "python",
   "nbconvert_exporter": "python",
   "pygments_lexer": "ipython3",
   "version": "3.11.7"
  }
 },
 "nbformat": 4,
 "nbformat_minor": 5
}
